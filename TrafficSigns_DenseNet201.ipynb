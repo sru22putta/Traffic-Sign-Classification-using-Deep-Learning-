{
  "nbformat": 4,
  "nbformat_minor": 0,
  "metadata": {
    "colab": {
      "provenance": []
    },
    "kernelspec": {
      "name": "python3",
      "display_name": "Python 3"
    },
    "language_info": {
      "name": "python"
    }
  },
  "cells": [
    {
      "cell_type": "code",
      "source": [
        "from google.colab import drive\n",
        "drive.mount('/content/drive')"
      ],
      "metadata": {
        "colab": {
          "base_uri": "https://localhost:8080/"
        },
        "id": "ebPYXuuHErRa",
        "outputId": "a134d25c-d440-4b25-b91f-e7fc1dbf6e62"
      },
      "execution_count": null,
      "outputs": [
        {
          "output_type": "stream",
          "name": "stdout",
          "text": [
            "Drive already mounted at /content/drive; to attempt to forcibly remount, call drive.mount(\"/content/drive\", force_remount=True).\n"
          ]
        }
      ]
    },
    {
      "cell_type": "code",
      "execution_count": null,
      "metadata": {
        "id": "tLjy827UIkI6",
        "colab": {
          "base_uri": "https://localhost:8080/"
        },
        "outputId": "f2657fe8-3537-4767-e15e-d2874fdb15dd"
      },
      "outputs": [
        {
          "output_type": "stream",
          "name": "stdout",
          "text": [
            "Downloading data from https://storage.googleapis.com/tensorflow/keras-applications/densenet/densenet201_weights_tf_dim_ordering_tf_kernels_notop.h5\n",
            "74836368/74836368 [==============================] - 3s 0us/step\n"
          ]
        }
      ],
      "source": [
        "#Pretrained model on ImageNet\n",
        "from tensorflow import keras\n",
        "\n",
        "base_model = keras.applications.DenseNet201(\n",
        "    weights='imagenet',\n",
        "    input_shape=(224, 224, 3),\n",
        "    include_top=False)"
      ]
    },
    {
      "cell_type": "code",
      "source": [
        "# Freeze base model\n",
        "base_model.trainable = False\n"
      ],
      "metadata": {
        "id": "WbtuA6PaInkN"
      },
      "execution_count": null,
      "outputs": []
    },
    {
      "cell_type": "code",
      "source": [
        "# Create inputs with correct shape\n",
        "inputs = keras.Input(shape=(224, 224, 3))\n",
        "\n",
        "x = base_model(inputs, training=False)\n",
        "\n",
        "# Add pooling layer or flatten layer\n",
        "x = keras.layers.GlobalAveragePooling2D()(x)\n",
        "\n",
        "\n",
        "# Add final dense layer\n",
        "outputs = keras.layers.Dense(85, activation = 'softmax')(x)\n",
        "\n",
        "\n",
        "# Combine inputs and outputs to create model\n",
        "model = keras.Model(inputs,outputs)\n"
      ],
      "metadata": {
        "id": "feoPlfPYU5ib"
      },
      "execution_count": null,
      "outputs": []
    },
    {
      "cell_type": "code",
      "source": [
        "model.summary()"
      ],
      "metadata": {
        "colab": {
          "base_uri": "https://localhost:8080/"
        },
        "id": "9S4bctxcVHYM",
        "outputId": "66b70dfb-dcc7-4d2f-fca7-36dcd21075fe"
      },
      "execution_count": null,
      "outputs": [
        {
          "output_type": "stream",
          "name": "stdout",
          "text": [
            "Model: \"model\"\n",
            "_________________________________________________________________\n",
            " Layer (type)                Output Shape              Param #   \n",
            "=================================================================\n",
            " input_2 (InputLayer)        [(None, 224, 224, 3)]     0         \n",
            "                                                                 \n",
            " densenet201 (Functional)    (None, 7, 7, 1920)        18321984  \n",
            "                                                                 \n",
            " global_average_pooling2d (G  (None, 1920)             0         \n",
            " lobalAveragePooling2D)                                          \n",
            "                                                                 \n",
            " dense (Dense)               (None, 85)                163285    \n",
            "                                                                 \n",
            "=================================================================\n",
            "Total params: 18,485,269\n",
            "Trainable params: 163,285\n",
            "Non-trainable params: 18,321,984\n",
            "_________________________________________________________________\n"
          ]
        }
      ]
    },
    {
      "cell_type": "code",
      "source": [
        "from keras.utils.vis_utils import plot_model\n",
        "plot_model(model, show_shapes=True, show_layer_names=True)"
      ],
      "metadata": {
        "colab": {
          "base_uri": "https://localhost:8080/",
          "height": 422
        },
        "id": "Dx-Q32w8VMRQ",
        "outputId": "fcddd4b3-57bd-43d0-9b06-8e204b183663"
      },
      "execution_count": null,
      "outputs": [
        {
          "output_type": "execute_result",
          "data": {
            "image/png": "[encoded data removed]",
            "text/plain": [
              "<IPython.core.display.Image object>"
            ]
          },
          "metadata": {},
          "execution_count": 6
        }
      ]
    },
    {
      "cell_type": "code",
      "source": [
        "# compile the model with loss and metrics options\n",
        "model.compile(loss = 'categorical_crossentropy' , metrics = ['accuracy'])"
      ],
      "metadata": {
        "id": "_W0EtjTbVN5e"
      },
      "execution_count": null,
      "outputs": []
    },
    {
      "cell_type": "code",
      "source": [
        "#Augment the data\n",
        "from tensorflow.keras.preprocessing.image import ImageDataGenerator\n",
        "\n",
        "datagen = ImageDataGenerator(\n",
        "        samplewise_center=True,  # set each sample mean to 0\n",
        "        rotation_range=30,  # randomly rotate images in the range (degrees, 0 to 180)\n",
        "        zoom_range = 0.3, # Randomly zoom image \n",
        "        width_shift_range=0.1,  # randomly shift images horizontally (fraction of total width)\n",
        "        height_shift_range=0.1,  # randomly shift images vertically (fraction of total height)\n",
        "        horizontal_flip=True,  # randomly flip images\n",
        "        vertical_flip=True) # randomnly flip images"
      ],
      "metadata": {
        "id": "dj4VlfAYVPoY"
      },
      "execution_count": null,
      "outputs": []
    },
    {
      "cell_type": "code",
      "source": [
        "# load and iterate training dataset\n",
        "train_it = datagen.flow_from_directory('/content/drive/MyDrive/trafficsigns/train', \n",
        "                                       target_size=(224,224), \n",
        "                                       color_mode='rgb', \n",
        "                                       class_mode=\"categorical\")\n",
        "# load and iterate validation dataset\n",
        "valid_it = datagen.flow_from_directory('/content/drive/MyDrive/trafficsigns/test', \n",
        "                                      target_size=(224,224), \n",
        "                                      color_mode='rgb', \n",
        "                                      class_mode=\"categorical\")"
      ],
      "metadata": {
        "colab": {
          "base_uri": "https://localhost:8080/"
        },
        "id": "s10KP7XFVRwB",
        "outputId": "b33c2672-312d-499d-e1e7-d873971a12a0"
      },
      "execution_count": null,
      "outputs": [
        {
          "output_type": "stream",
          "name": "stdout",
          "text": [
            "Found 4438 images belonging to 85 classes.\n",
            "Found 1288 images belonging to 85 classes.\n"
          ]
        }
      ]
    },
    {
      "cell_type": "code",
      "source": [
        "history = model.fit(train_it,\n",
        "          validation_data=valid_it,\n",
        "          steps_per_epoch=train_it.samples/32,\n",
        "          validation_steps=valid_it.samples/32,\n",
        "          epochs=15)\n",
        "\n",
        "import matplotlib.pyplot as pyplot\n",
        "%matplotlib inline\n",
        "\n",
        "pyplot.subplots_adjust(hspace=0.9)\n",
        "\n",
        "pyplot.subplot(211)\n",
        "pyplot.title('Loss')\n",
        "pyplot.xlabel('Epochs')\n",
        "pyplot.ylabel('Loss')\n",
        "pyplot.plot(history.history['loss'], label='train')\n",
        "pyplot.plot(history.history['val_loss'], label='test')\n",
        "\n",
        "pyplot.legend()\n",
        "# plot accuracy during training\n",
        "pyplot.subplot(212)\n",
        "pyplot.title('Accuracy')\n",
        "pyplot.xlabel('Epochs')\n",
        "pyplot.ylabel('Accuracy')\n",
        "pyplot.plot(history.history['accuracy'], label='train')\n",
        "pyplot.plot(history.history['val_accuracy'], label='test')\n",
        "pyplot.legend()\n",
        "pyplot.show()"
      ],
      "metadata": {
        "colab": {
          "base_uri": "https://localhost:8080/"
        },
        "id": "4xJkixMVVZ0U",
        "outputId": "51a175a1-6d70-409c-91b7-9e4062aa9074"
      },
      "execution_count": null,
      "outputs": [
        {
          "output_type": "stream",
          "name": "stdout",
          "text": [
            "Epoch 1/15\n",
            "138/138 [==============================] - 1801s 13s/step - loss: 6.4365 - accuracy: 0.2150 - val_loss: 5.0256 - val_accuracy: 0.2562\n",
            "Epoch 2/15\n",
            "138/138 [==============================] - 1771s 13s/step - loss: 4.4309 - accuracy: 0.3272 - val_loss: 4.4067 - val_accuracy: 0.3742\n",
            "Epoch 3/15\n",
            "138/138 [==============================] - 1728s 12s/step - loss: 3.9178 - accuracy: 0.3657 - val_loss: 4.6674 - val_accuracy: 0.3804\n",
            "Epoch 4/15\n",
            "138/138 [==============================] - 1759s 13s/step - loss: 3.5417 - accuracy: 0.4112 - val_loss: 3.8430 - val_accuracy: 0.3936\n",
            "Epoch 5/15\n",
            "138/138 [==============================] - 1735s 13s/step - loss: 3.3338 - accuracy: 0.4360 - val_loss: 4.5644 - val_accuracy: 0.4037\n",
            "Epoch 6/15\n",
            "138/138 [==============================] - 1732s 12s/step - loss: 3.2168 - accuracy: 0.4590 - val_loss: 3.6134 - val_accuracy: 0.4301\n",
            "Epoch 7/15\n",
            "138/138 [==============================] - 1743s 13s/step - loss: 3.0192 - accuracy: 0.4748 - val_loss: 3.9669 - val_accuracy: 0.4410\n",
            "Epoch 8/15\n",
            "138/138 [==============================] - 1763s 13s/step - loss: 2.9102 - accuracy: 0.4838 - val_loss: 4.4280 - val_accuracy: 0.4348\n",
            "Epoch 9/15\n",
            "138/138 [==============================] - 1739s 13s/step - loss: 2.8235 - accuracy: 0.4982 - val_loss: 3.5665 - val_accuracy: 0.4674\n",
            "Epoch 10/15\n",
            "138/138 [==============================] - 1736s 13s/step - loss: 2.7954 - accuracy: 0.5023 - val_loss: 3.8764 - val_accuracy: 0.4348\n",
            "Epoch 11/15\n",
            "139/138 [==============================] - ETA: -3s - loss: 2.7152 - accuracy: 0.5198"
          ]
        }
      ]
    },
    {
      "cell_type": "code",
      "source": [],
      "metadata": {
        "id": "Cf-bnIvaVcB1"
      },
      "execution_count": null,
      "outputs": []
    },
    {
      "cell_type": "code",
      "source": [],
      "metadata": {
        "id": "KuTcHr31Vev1"
      },
      "execution_count": null,
      "outputs": []
    },
    {
      "cell_type": "code",
      "source": [],
      "metadata": {
        "id": "ynL__lMsVgpU"
      },
      "execution_count": null,
      "outputs": []
    },
    {
      "cell_type": "code",
      "source": [],
      "metadata": {
        "id": "yx0A5ZB9kXuN"
      },
      "execution_count": null,
      "outputs": []
    },
    {
      "cell_type": "code",
      "source": [],
      "metadata": {
        "id": "HjuQDL79Vh79"
      },
      "execution_count": null,
      "outputs": []
    },
    {
      "cell_type": "code",
      "source": [],
      "metadata": {
        "id": "hNb-fRFjVkXe"
      },
      "execution_count": null,
      "outputs": []
    }
  ]
}